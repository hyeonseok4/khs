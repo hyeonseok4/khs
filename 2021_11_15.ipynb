{
  "nbformat": 4,
  "nbformat_minor": 0,
  "metadata": {
    "colab": {
      "name": "2021.11.15.ipynb",
      "provenance": [],
      "authorship_tag": "ABX9TyP65WLbX+21/ktpOQHGP21f",
      "include_colab_link": true
    },
    "kernelspec": {
      "name": "python3",
      "display_name": "Python 3"
    },
    "language_info": {
      "name": "python"
    }
  },
  "cells": [
    {
      "cell_type": "markdown",
      "metadata": {
        "id": "view-in-github",
        "colab_type": "text"
      },
      "source": [
        "<a href=\"https://colab.research.google.com/github/hyeonseok4/khs/blob/main/2021_11_15.ipynb\" target=\"_parent\"><img src=\"https://colab.research.google.com/assets/colab-badge.svg\" alt=\"Open In Colab\"/></a>"
      ]
    },
    {
      "cell_type": "code",
      "metadata": {
        "colab": {
          "base_uri": "https://localhost:8080/"
        },
        "id": "zAd1C1NnQxML",
        "outputId": "e1934c24-e0a6-4812-a707-3ef8f5b614e1"
      },
      "source": [
        "score = int(input(\"성적을 입력하시오.\"))\n",
        "\n",
        "if score >= 90:\n",
        "  print(' a학점 입니다.')\n",
        "\n",
        "elif score >=80:\n",
        "  print('b학점 입니다.')\n",
        "\n",
        "elif score >=70:\n",
        "  print('c학점 입니다.')\n",
        "\n",
        "elif score >=60:\n",
        "  print('d학점 입니다.')\n",
        "\n",
        "else:\n",
        "  print('f학점 입니다.')\n",
        "  "
      ],
      "execution_count": 1,
      "outputs": [
        {
          "output_type": "stream",
          "name": "stdout",
          "text": [
            "성적을 입력하시오.80\n",
            "b학점 입니다.\n"
          ]
        }
      ]
    }
  ]
}